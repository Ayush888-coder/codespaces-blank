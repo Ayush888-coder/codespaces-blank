{
 "cells": [
  {
   "cell_type": "code",
   "execution_count": 1,
   "metadata": {},
   "outputs": [
    {
     "name": "stderr",
     "output_type": "stream",
     "text": [
      "2023-09-05 06:50:29.862027: I tensorflow/tsl/cuda/cudart_stub.cc:28] Could not find cuda drivers on your machine, GPU will not be used.\n",
      "2023-09-05 06:50:33.635826: I tensorflow/tsl/cuda/cudart_stub.cc:28] Could not find cuda drivers on your machine, GPU will not be used.\n",
      "2023-09-05 06:50:33.653987: I tensorflow/core/platform/cpu_feature_guard.cc:182] This TensorFlow binary is optimized to use available CPU instructions in performance-critical operations.\n",
      "To enable the following instructions: AVX2 FMA, in other operations, rebuild TensorFlow with the appropriate compiler flags.\n",
      "2023-09-05 06:50:39.650372: W tensorflow/compiler/tf2tensorrt/utils/py_utils.cc:38] TF-TRT Warning: Could not find TensorRT\n"
     ]
    }
   ],
   "source": [
    "import tensorflow as tf\n",
    "from tensorflow import keras\n",
    "from tensorflow.keras import layers\n",
    "from tensorflow.keras import Sequential\n",
    "from tensorflow.keras.layers  import Dense\n",
    "\n",
    "import numpy as np\n",
    "import matplotlib.pyplot as plt\n",
    "from sklearn.model_selection import train_test_split\n",
    "import os"
   ]
  },
  {
   "cell_type": "code",
   "execution_count": 2,
   "metadata": {},
   "outputs": [],
   "source": [
    "# creating data \n",
    "np.random.seed(0)\n",
    "features=np.random.rand(100,2)\n",
    "label=(features[:,0]+features [:,1]).astype(int)"
   ]
  },
  {
   "cell_type": "code",
   "execution_count": 3,
   "metadata": {},
   "outputs": [],
   "source": [
    "# split data\n",
    "trainX,testX,trainY,testY=train_test_split(features,label,train_size=0.7,random_state=100)"
   ]
  },
  {
   "cell_type": "code",
   "execution_count": 4,
   "metadata": {},
   "outputs": [],
   "source": [
    "# lets design layers of ANN\n",
    "myann_model=keras.Sequential([keras.layers.Dense(7,activation='relu'),\n",
    "                  keras.layers.Dense(12,activation='relu'),\n",
    "                  keras.layers.Dense(1,activation='sigmoid'),\n",
    "                  ])"
   ]
  },
  {
   "cell_type": "code",
   "execution_count": 5,
   "metadata": {},
   "outputs": [
    {
     "data": {
      "text/plain": [
       "['__bool__',\n",
       " '__class__',\n",
       " '__delattr__',\n",
       " '__dir__',\n",
       " '__doc__',\n",
       " '__eq__',\n",
       " '__format__',\n",
       " '__ge__',\n",
       " '__getattribute__',\n",
       " '__gt__',\n",
       " '__hash__',\n",
       " '__init__',\n",
       " '__init_subclass__',\n",
       " '__le__',\n",
       " '__lt__',\n",
       " '__ne__',\n",
       " '__new__',\n",
       " '__reduce__',\n",
       " '__reduce_ex__',\n",
       " '__repr__',\n",
       " '__setattr__',\n",
       " '__sizeof__',\n",
       " '__str__',\n",
       " '__subclasshook__']"
      ]
     },
     "execution_count": 5,
     "metadata": {},
     "output_type": "execute_result"
    }
   ],
   "source": [
    "#lets compile ANN layers with cost/loss function\n",
    "myann_compiled=myann_model.compile(optimizer='adam',loss='binary_crossentropy',metrics=['accuracy'])\n",
    "dir(myann_compiled)"
   ]
  },
  {
   "cell_type": "code",
   "execution_count": 7,
   "metadata": {},
   "outputs": [
    {
     "name": "stdout",
     "output_type": "stream",
     "text": [
      "Epoch 1/50\n",
      "2/2 [==============================] - 0s 3ms/step - loss: 0.6691 - accuracy: 0.5429\n",
      "Epoch 2/50\n",
      "2/2 [==============================] - 0s 4ms/step - loss: 0.6684 - accuracy: 0.5429\n",
      "Epoch 3/50\n",
      "2/2 [==============================] - 0s 3ms/step - loss: 0.6677 - accuracy: 0.5429\n",
      "Epoch 4/50\n",
      "2/2 [==============================] - 0s 3ms/step - loss: 0.6671 - accuracy: 0.5429\n",
      "Epoch 5/50\n",
      "2/2 [==============================] - 0s 3ms/step - loss: 0.6664 - accuracy: 0.5429\n",
      "Epoch 6/50\n",
      "2/2 [==============================] - 0s 3ms/step - loss: 0.6658 - accuracy: 0.5571\n",
      "Epoch 7/50\n",
      "2/2 [==============================] - 0s 3ms/step - loss: 0.6652 - accuracy: 0.5571\n",
      "Epoch 8/50\n",
      "2/2 [==============================] - 0s 3ms/step - loss: 0.6646 - accuracy: 0.5571\n",
      "Epoch 9/50\n",
      "2/2 [==============================] - 0s 3ms/step - loss: 0.6639 - accuracy: 0.5571\n",
      "Epoch 10/50\n",
      "2/2 [==============================] - 0s 3ms/step - loss: 0.6634 - accuracy: 0.5571\n",
      "Epoch 11/50\n",
      "2/2 [==============================] - 0s 3ms/step - loss: 0.6627 - accuracy: 0.5571\n",
      "Epoch 12/50\n",
      "2/2 [==============================] - 0s 3ms/step - loss: 0.6620 - accuracy: 0.5571\n",
      "Epoch 13/50\n",
      "2/2 [==============================] - 0s 3ms/step - loss: 0.6614 - accuracy: 0.5571\n",
      "Epoch 14/50\n",
      "2/2 [==============================] - 0s 3ms/step - loss: 0.6607 - accuracy: 0.5571\n",
      "Epoch 15/50\n",
      "2/2 [==============================] - 0s 3ms/step - loss: 0.6600 - accuracy: 0.5571\n",
      "Epoch 16/50\n",
      "2/2 [==============================] - 0s 5ms/step - loss: 0.6593 - accuracy: 0.5571\n",
      "Epoch 17/50\n",
      "2/2 [==============================] - 0s 3ms/step - loss: 0.6587 - accuracy: 0.5571\n",
      "Epoch 18/50\n",
      "2/2 [==============================] - 0s 3ms/step - loss: 0.6579 - accuracy: 0.5714\n",
      "Epoch 19/50\n",
      "2/2 [==============================] - 0s 3ms/step - loss: 0.6572 - accuracy: 0.5714\n",
      "Epoch 20/50\n",
      "2/2 [==============================] - 0s 3ms/step - loss: 0.6565 - accuracy: 0.5857\n",
      "Epoch 21/50\n",
      "2/2 [==============================] - 0s 3ms/step - loss: 0.6557 - accuracy: 0.5857\n",
      "Epoch 22/50\n",
      "2/2 [==============================] - 0s 3ms/step - loss: 0.6549 - accuracy: 0.5857\n",
      "Epoch 23/50\n",
      "2/2 [==============================] - 0s 3ms/step - loss: 0.6541 - accuracy: 0.5857\n",
      "Epoch 24/50\n",
      "2/2 [==============================] - 0s 3ms/step - loss: 0.6533 - accuracy: 0.5857\n",
      "Epoch 25/50\n",
      "2/2 [==============================] - 0s 3ms/step - loss: 0.6525 - accuracy: 0.5857\n",
      "Epoch 26/50\n"
     ]
    },
    {
     "name": "stdout",
     "output_type": "stream",
     "text": [
      "2/2 [==============================] - 0s 4ms/step - loss: 0.6516 - accuracy: 0.5857\n",
      "Epoch 27/50\n",
      "2/2 [==============================] - 0s 3ms/step - loss: 0.6507 - accuracy: 0.5857\n",
      "Epoch 28/50\n",
      "2/2 [==============================] - 0s 3ms/step - loss: 0.6498 - accuracy: 0.5857\n",
      "Epoch 29/50\n",
      "2/2 [==============================] - 0s 3ms/step - loss: 0.6489 - accuracy: 0.6000\n",
      "Epoch 30/50\n",
      "2/2 [==============================] - 0s 3ms/step - loss: 0.6481 - accuracy: 0.6000\n",
      "Epoch 31/50\n",
      "2/2 [==============================] - 0s 3ms/step - loss: 0.6472 - accuracy: 0.6000\n",
      "Epoch 32/50\n",
      "2/2 [==============================] - 0s 4ms/step - loss: 0.6462 - accuracy: 0.6000\n",
      "Epoch 33/50\n",
      "2/2 [==============================] - 0s 3ms/step - loss: 0.6453 - accuracy: 0.6000\n",
      "Epoch 34/50\n",
      "2/2 [==============================] - 0s 3ms/step - loss: 0.6443 - accuracy: 0.6143\n",
      "Epoch 35/50\n",
      "2/2 [==============================] - 0s 5ms/step - loss: 0.6434 - accuracy: 0.6286\n",
      "Epoch 36/50\n",
      "2/2 [==============================] - 0s 3ms/step - loss: 0.6424 - accuracy: 0.6286\n",
      "Epoch 37/50\n",
      "2/2 [==============================] - 0s 3ms/step - loss: 0.6415 - accuracy: 0.6571\n",
      "Epoch 38/50\n",
      "2/2 [==============================] - 0s 3ms/step - loss: 0.6404 - accuracy: 0.6714\n",
      "Epoch 39/50\n",
      "2/2 [==============================] - 0s 3ms/step - loss: 0.6394 - accuracy: 0.6714\n",
      "Epoch 40/50\n",
      "2/2 [==============================] - 0s 3ms/step - loss: 0.6385 - accuracy: 0.6714\n",
      "Epoch 41/50\n",
      "2/2 [==============================] - 0s 3ms/step - loss: 0.6375 - accuracy: 0.6714\n",
      "Epoch 42/50\n",
      "2/2 [==============================] - 0s 3ms/step - loss: 0.6365 - accuracy: 0.6714\n",
      "Epoch 43/50\n",
      "2/2 [==============================] - 0s 3ms/step - loss: 0.6355 - accuracy: 0.6857\n",
      "Epoch 44/50\n",
      "2/2 [==============================] - 0s 3ms/step - loss: 0.6344 - accuracy: 0.7000\n",
      "Epoch 45/50\n",
      "2/2 [==============================] - 0s 3ms/step - loss: 0.6334 - accuracy: 0.7000\n",
      "Epoch 46/50\n",
      "2/2 [==============================] - 0s 3ms/step - loss: 0.6323 - accuracy: 0.7000\n",
      "Epoch 47/50\n",
      "2/2 [==============================] - 0s 3ms/step - loss: 0.6314 - accuracy: 0.7000\n",
      "Epoch 48/50\n",
      "2/2 [==============================] - 0s 8ms/step - loss: 0.6302 - accuracy: 0.7000\n",
      "Epoch 49/50\n",
      "2/2 [==============================] - 0s 3ms/step - loss: 0.6291 - accuracy: 0.7000\n",
      "Epoch 50/50\n",
      "2/2 [==============================] - 0s 6ms/step - loss: 0.6281 - accuracy: 0.7000\n"
     ]
    },
    {
     "data": {
      "text/plain": [
       "<keras.src.callbacks.History at 0x7ff2dd763c40>"
      ]
     },
     "execution_count": 7,
     "metadata": {},
     "output_type": "execute_result"
    }
   ],
   "source": [
    "myann_model.fit(trainX,trainY,epochs=50,batch_size=40)"
   ]
  },
  {
   "cell_type": "code",
   "execution_count": null,
   "metadata": {},
   "outputs": [],
   "source": []
  },
  {
   "cell_type": "code",
   "execution_count": null,
   "metadata": {},
   "outputs": [],
   "source": []
  },
  {
   "cell_type": "code",
   "execution_count": null,
   "metadata": {},
   "outputs": [],
   "source": []
  }
 ],
 "metadata": {
  "kernelspec": {
   "display_name": "Python 3",
   "language": "python",
   "name": "python3"
  },
  "language_info": {
   "codemirror_mode": {
    "name": "ipython",
    "version": 3
   },
   "file_extension": ".py",
   "mimetype": "text/x-python",
   "name": "python",
   "nbconvert_exporter": "python",
   "pygments_lexer": "ipython3",
   "version": "3.10.8"
  },
  "orig_nbformat": 4
 },
 "nbformat": 4,
 "nbformat_minor": 2
}
