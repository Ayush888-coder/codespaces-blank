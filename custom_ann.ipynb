{
 "cells": [
  {
   "cell_type": "code",
   "execution_count": 1,
   "metadata": {},
   "outputs": [
    {
     "name": "stderr",
     "output_type": "stream",
     "text": [
      "2023-09-05 04:30:01.304516: I tensorflow/tsl/cuda/cudart_stub.cc:28] Could not find cuda drivers on your machine, GPU will not be used.\n",
      "2023-09-05 04:30:04.973692: I tensorflow/tsl/cuda/cudart_stub.cc:28] Could not find cuda drivers on your machine, GPU will not be used.\n",
      "2023-09-05 04:30:04.983270: I tensorflow/core/platform/cpu_feature_guard.cc:182] This TensorFlow binary is optimized to use available CPU instructions in performance-critical operations.\n",
      "To enable the following instructions: AVX2 FMA, in other operations, rebuild TensorFlow with the appropriate compiler flags.\n",
      "2023-09-05 04:30:11.513189: W tensorflow/compiler/tf2tensorrt/utils/py_utils.cc:38] TF-TRT Warning: Could not find TensorRT\n"
     ]
    }
   ],
   "source": [
    "import tensorflow as tf\n",
    "from tensorflow import keras\n",
    "import numpy as np\n",
    "import matplotlib.pyplot as plt\n",
    "import os\n",
    "os.environ['TF_CPP_MIN_LOG_LEVEL'] = '2'\n",
    "# ignoring logs of tensorflow"
   ]
  },
  {
   "cell_type": "code",
   "execution_count": 9,
   "metadata": {},
   "outputs": [
    {
     "data": {
      "text/plain": [
       "(array([[0.5488135 , 0.71518937],\n",
       "        [0.60276338, 0.54488318],\n",
       "        [0.4236548 , 0.64589411],\n",
       "        [0.43758721, 0.891773  ],\n",
       "        [0.96366276, 0.38344152],\n",
       "        [0.79172504, 0.52889492],\n",
       "        [0.56804456, 0.92559664],\n",
       "        [0.07103606, 0.0871293 ],\n",
       "        [0.0202184 , 0.83261985],\n",
       "        [0.77815675, 0.87001215],\n",
       "        [0.97861834, 0.79915856],\n",
       "        [0.46147936, 0.78052918],\n",
       "        [0.11827443, 0.63992102],\n",
       "        [0.14335329, 0.94466892],\n",
       "        [0.52184832, 0.41466194],\n",
       "        [0.26455561, 0.77423369],\n",
       "        [0.45615033, 0.56843395],\n",
       "        [0.0187898 , 0.6176355 ],\n",
       "        [0.61209572, 0.616934  ],\n",
       "        [0.94374808, 0.6818203 ],\n",
       "        [0.3595079 , 0.43703195],\n",
       "        [0.6976312 , 0.06022547],\n",
       "        [0.66676672, 0.67063787],\n",
       "        [0.21038256, 0.1289263 ],\n",
       "        [0.31542835, 0.36371077],\n",
       "        [0.57019677, 0.43860151],\n",
       "        [0.98837384, 0.10204481],\n",
       "        [0.20887676, 0.16130952],\n",
       "        [0.65310833, 0.2532916 ],\n",
       "        [0.46631077, 0.24442559],\n",
       "        [0.15896958, 0.11037514],\n",
       "        [0.65632959, 0.13818295],\n",
       "        [0.19658236, 0.36872517],\n",
       "        [0.82099323, 0.09710128],\n",
       "        [0.83794491, 0.09609841],\n",
       "        [0.97645947, 0.4686512 ],\n",
       "        [0.97676109, 0.60484552],\n",
       "        [0.73926358, 0.03918779],\n",
       "        [0.28280696, 0.12019656],\n",
       "        [0.2961402 , 0.11872772],\n",
       "        [0.31798318, 0.41426299],\n",
       "        [0.0641475 , 0.69247212],\n",
       "        [0.56660145, 0.26538949],\n",
       "        [0.52324805, 0.09394051],\n",
       "        [0.5759465 , 0.9292962 ],\n",
       "        [0.31856895, 0.66741038],\n",
       "        [0.13179786, 0.7163272 ],\n",
       "        [0.28940609, 0.18319136],\n",
       "        [0.58651293, 0.02010755],\n",
       "        [0.82894003, 0.00469548],\n",
       "        [0.67781654, 0.27000797],\n",
       "        [0.73519402, 0.96218855],\n",
       "        [0.24875314, 0.57615733],\n",
       "        [0.59204193, 0.57225191],\n",
       "        [0.22308163, 0.95274901],\n",
       "        [0.44712538, 0.84640867],\n",
       "        [0.69947928, 0.29743695],\n",
       "        [0.81379782, 0.39650574],\n",
       "        [0.8811032 , 0.58127287],\n",
       "        [0.88173536, 0.69253159],\n",
       "        [0.72525428, 0.50132438],\n",
       "        [0.95608363, 0.6439902 ],\n",
       "        [0.42385505, 0.60639321],\n",
       "        [0.0191932 , 0.30157482],\n",
       "        [0.66017354, 0.29007761],\n",
       "        [0.61801543, 0.4287687 ],\n",
       "        [0.13547406, 0.29828233],\n",
       "        [0.56996491, 0.59087276],\n",
       "        [0.57432525, 0.65320082],\n",
       "        [0.65210327, 0.43141844],\n",
       "        [0.8965466 , 0.36756187],\n",
       "        [0.43586493, 0.89192336],\n",
       "        [0.80619399, 0.70388858],\n",
       "        [0.10022689, 0.91948261],\n",
       "        [0.7142413 , 0.99884701],\n",
       "        [0.1494483 , 0.86812606],\n",
       "        [0.16249293, 0.61555956],\n",
       "        [0.12381998, 0.84800823],\n",
       "        [0.80731896, 0.56910074],\n",
       "        [0.4071833 , 0.069167  ],\n",
       "        [0.69742877, 0.45354268],\n",
       "        [0.7220556 , 0.86638233],\n",
       "        [0.97552151, 0.85580334],\n",
       "        [0.01171408, 0.35997806],\n",
       "        [0.72999056, 0.17162968],\n",
       "        [0.52103661, 0.05433799],\n",
       "        [0.19999652, 0.01852179],\n",
       "        [0.7936977 , 0.22392469],\n",
       "        [0.34535168, 0.92808129],\n",
       "        [0.7044144 , 0.03183893],\n",
       "        [0.16469416, 0.6214784 ],\n",
       "        [0.57722859, 0.23789282],\n",
       "        [0.934214  , 0.61396596],\n",
       "        [0.5356328 , 0.58990998],\n",
       "        [0.73012203, 0.311945  ],\n",
       "        [0.39822106, 0.20984375],\n",
       "        [0.18619301, 0.94437239],\n",
       "        [0.7395508 , 0.49045881],\n",
       "        [0.22741463, 0.25435648],\n",
       "        [0.05802916, 0.43441663]]),\n",
       " array([1, 1, 1, 1, 1, 1, 1, 0, 0, 1, 1, 1, 0, 1, 0, 1, 1, 0, 1, 1, 0, 0,\n",
       "        1, 0, 0, 1, 1, 0, 0, 0, 0, 0, 0, 0, 0, 1, 1, 0, 0, 0, 0, 0, 0, 0,\n",
       "        1, 0, 0, 0, 0, 0, 0, 1, 0, 1, 1, 1, 0, 1, 1, 1, 1, 1, 1, 0, 0, 1,\n",
       "        0, 1, 1, 1, 1, 1, 1, 1, 1, 1, 0, 0, 1, 0, 1, 1, 1, 0, 0, 0, 0, 1,\n",
       "        1, 0, 0, 0, 1, 1, 1, 0, 1, 1, 0, 0]))"
      ]
     },
     "execution_count": 9,
     "metadata": {},
     "output_type": "execute_result"
    }
   ],
   "source": [
    "# creating data \n",
    "np.random.seed(0)\n",
    "x=np.random.rand(100,2)\n",
    "y=(x[:,0]+x[:,1]>1).astype(int)\n",
    "x,y\n"
   ]
  },
  {
   "cell_type": "code",
   "execution_count": 3,
   "metadata": {},
   "outputs": [],
   "source": [
    "#split by maths\n",
    "ratio1=0.8\n",
    "ratio1_index=int(len(x)*ratio1)"
   ]
  },
  {
   "cell_type": "code",
   "execution_count": 6,
   "metadata": {},
   "outputs": [],
   "source": [
    "#training and testing\n",
    "train_x,test_x=x[:ratio1_index],x[ratio1_index:]\n",
    "train_y,test_y=y[:ratio1_index],y[ratio1_index:]\n"
   ]
  },
  {
   "cell_type": "code",
   "execution_count": 7,
   "metadata": {},
   "outputs": [
    {
     "data": {
      "text/plain": [
       "<keras.src.engine.sequential.Sequential at 0x7f929fae40d0>"
      ]
     },
     "execution_count": 7,
     "metadata": {},
     "output_type": "execute_result"
    }
   ],
   "source": [
    "# define sequential ANN using keras\n",
    "keras.Sequential()"
   ]
  },
  {
   "cell_type": "code",
   "execution_count": null,
   "metadata": {},
   "outputs": [],
   "source": []
  }
 ],
 "metadata": {
  "kernelspec": {
   "display_name": "Python 3",
   "language": "python",
   "name": "python3"
  },
  "language_info": {
   "codemirror_mode": {
    "name": "ipython",
    "version": 3
   },
   "file_extension": ".py",
   "mimetype": "text/x-python",
   "name": "python",
   "nbconvert_exporter": "python",
   "pygments_lexer": "ipython3",
   "version": "3.10.8"
  },
  "orig_nbformat": 4
 },
 "nbformat": 4,
 "nbformat_minor": 2
}
